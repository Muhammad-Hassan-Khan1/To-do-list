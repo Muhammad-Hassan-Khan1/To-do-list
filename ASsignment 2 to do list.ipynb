{
 "cells": [
  {
   "cell_type": "code",
   "execution_count": 4,
   "metadata": {},
   "outputs": [
    {
     "name": "stdout",
     "output_type": "stream",
     "text": [
      "to_do_list = ['cleaning', 'shopping', 'cooking', 'work']\n",
      "Enter your finished work: shopping\n",
      "Task_done = shopping\n",
      "to_do_list = ['cleaning', 'cooking', 'work']\n",
      "Enter your finished work: asdf\n",
      "Not in to_do list\n",
      "Enter your finished work: work\n",
      "Task_done = work\n",
      "to_do_list = ['cleaning', 'cooking']\n",
      "Enter your finished work: cooking\n",
      "Task_done = cooking\n",
      "to_do_list = ['cleaning']\n",
      "Enter your finished work: asdf\n",
      "Not in to_do list\n",
      "Enter your finished work: cleaning\n",
      "Task_done = cleaning\n",
      "to_do_list = []\n",
      "You have completed all to_do list\n"
     ]
    }
   ],
   "source": [
    "to_do_list = ['cleaning', 'shopping', 'cooking', 'House-keeping']\n",
    "print('to_do_list' + ' = ' + format(to_do_list))\n",
    "entered_value = []\n",
    "\n",
    "while to_do_list != []:\n",
    "    a = (input('Enter your latest completed task: ').lower())\n",
    "    if a in to_do_list:\n",
    "        b = to_do_list.pop(to_do_list.index(a))\n",
    "        entered_value.append(b)\n",
    "        print('Task_done' , ' = ' ,format(entered_value))\n",
    "        print('to_do_list' , ' = ' , format(to_do_list))\n",
    "        \n",
    "    else :\n",
    "        print('Not in to_do list')\n",
    "\n",
    "if to_do_list == []:\n",
    "    print('You have completed all to_do list')"
   ]
  },
  {
   "cell_type": "code",
   "execution_count": null,
   "metadata": {},
   "outputs": [],
   "source": []
  },
  {
   "cell_type": "code",
   "execution_count": null,
   "metadata": {},
   "outputs": [],
   "source": []
  },
  {
   "cell_type": "code",
   "execution_count": null,
   "metadata": {},
   "outputs": [],
   "source": []
  }
 ],
 "metadata": {
  "kernelspec": {
   "display_name": "Python 3",
   "language": "python",
   "name": "python3"
  },
  "language_info": {
   "codemirror_mode": {
    "name": "ipython",
    "version": 3
   },
   "file_extension": ".py",
   "mimetype": "text/x-python",
   "name": "python",
   "nbconvert_exporter": "python",
   "pygments_lexer": "ipython3",
   "version": "3.7.3"
  }
 },
 "nbformat": 4,
 "nbformat_minor": 2
}
